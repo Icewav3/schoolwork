{
 "cells": [
  {
   "cell_type": "markdown",
   "metadata": {},
   "source": [
    "Import the numpy module"
   ]
  },
  {
   "cell_type": "code",
   "execution_count": 28,
   "metadata": {},
   "outputs": [],
   "source": [
    "import numpy as np"
   ]
  },
  {
   "cell_type": "markdown",
   "metadata": {},
   "source": [
    "Create a 1d numpy array called arr1 that looks like the one below. Display it."
   ]
  },
  {
   "cell_type": "code",
   "execution_count": 29,
   "metadata": {},
   "outputs": [],
   "source": [
    "arr1 = np.array([ 3,  6,  9, 12, 15])"
   ]
  },
  {
   "cell_type": "markdown",
   "metadata": {},
   "source": [
    "Print out the 3rd element of the array."
   ]
  },
  {
   "cell_type": "code",
   "execution_count": 30,
   "metadata": {},
   "outputs": [
    {
     "name": "stdout",
     "output_type": "stream",
     "text": [
      "9\n"
     ]
    }
   ],
   "source": [
    "print(arr1[2])"
   ]
  },
  {
   "cell_type": "markdown",
   "metadata": {},
   "source": [
    "Create a 2d numpy array called arr2 that looks like the one below. Display it."
   ]
  },
  {
   "cell_type": "code",
   "execution_count": 31,
   "metadata": {},
   "outputs": [],
   "source": [
    "arr2 = np.array([\n",
    "    [ 2,  4,  6],\n",
    "    [ 3,  6,  9],\n",
    "    [ 4,  8, 12]\n",
    "    ])"
   ]
  },
  {
   "cell_type": "markdown",
   "metadata": {},
   "source": [
    "Print out the element at row=3,col=2."
   ]
  },
  {
   "cell_type": "code",
   "execution_count": 32,
   "metadata": {},
   "outputs": [
    {
     "name": "stdout",
     "output_type": "stream",
     "text": [
      "8\n"
     ]
    }
   ],
   "source": [
    "print(arr2[2, 1])"
   ]
  },
  {
   "cell_type": "markdown",
   "metadata": {},
   "source": [
    "Create an array that goes from 0 to 100 with step=3. Display it."
   ]
  },
  {
   "cell_type": "code",
   "execution_count": 33,
   "metadata": {},
   "outputs": [
    {
     "name": "stdout",
     "output_type": "stream",
     "text": [
      "[[-50 -51 -52 -53 -54 -55 -56 -57 -58 -59]]\n"
     ]
    }
   ],
   "source": [
    "arr3 = np.array([range(-50,-60, -1)])\n",
    "print(arr3)"
   ]
  },
  {
   "cell_type": "markdown",
   "metadata": {},
   "source": [
    "Create a 10x5 2d array filled with zeroes. Display it."
   ]
  },
  {
   "cell_type": "code",
   "execution_count": 34,
   "metadata": {},
   "outputs": [
    {
     "name": "stdout",
     "output_type": "stream",
     "text": [
      "[[0. 0. 0. 0. 0.]\n",
      " [0. 0. 0. 0. 0.]\n",
      " [0. 0. 0. 0. 0.]\n",
      " [0. 0. 0. 0. 0.]\n",
      " [0. 0. 0. 0. 0.]\n",
      " [0. 0. 0. 0. 0.]\n",
      " [0. 0. 0. 0. 0.]\n",
      " [0. 0. 0. 0. 0.]\n",
      " [0. 0. 0. 0. 0.]\n",
      " [0. 0. 0. 0. 0.]]\n"
     ]
    }
   ],
   "source": [
    "arr4 = np.zeros((10,5))\n",
    "print(arr4)"
   ]
  },
  {
   "cell_type": "markdown",
   "metadata": {},
   "source": [
    "Create an array called lin1d, that has 100 data points spaced between 57 and 108. Display it."
   ]
  },
  {
   "cell_type": "code",
   "execution_count": 35,
   "metadata": {},
   "outputs": [
    {
     "name": "stdout",
     "output_type": "stream",
     "text": [
      "[ 57.          57.51515152  58.03030303  58.54545455  59.06060606\n",
      "  59.57575758  60.09090909  60.60606061  61.12121212  61.63636364\n",
      "  62.15151515  62.66666667  63.18181818  63.6969697   64.21212121\n",
      "  64.72727273  65.24242424  65.75757576  66.27272727  66.78787879\n",
      "  67.3030303   67.81818182  68.33333333  68.84848485  69.36363636\n",
      "  69.87878788  70.39393939  70.90909091  71.42424242  71.93939394\n",
      "  72.45454545  72.96969697  73.48484848  74.          74.51515152\n",
      "  75.03030303  75.54545455  76.06060606  76.57575758  77.09090909\n",
      "  77.60606061  78.12121212  78.63636364  79.15151515  79.66666667\n",
      "  80.18181818  80.6969697   81.21212121  81.72727273  82.24242424\n",
      "  82.75757576  83.27272727  83.78787879  84.3030303   84.81818182\n",
      "  85.33333333  85.84848485  86.36363636  86.87878788  87.39393939\n",
      "  87.90909091  88.42424242  88.93939394  89.45454545  89.96969697\n",
      "  90.48484848  91.          91.51515152  92.03030303  92.54545455\n",
      "  93.06060606  93.57575758  94.09090909  94.60606061  95.12121212\n",
      "  95.63636364  96.15151515  96.66666667  97.18181818  97.6969697\n",
      "  98.21212121  98.72727273  99.24242424  99.75757576 100.27272727\n",
      " 100.78787879 101.3030303  101.81818182 102.33333333 102.84848485\n",
      " 103.36363636 103.87878788 104.39393939 104.90909091 105.42424242\n",
      " 105.93939394 106.45454545 106.96969697 107.48484848 108.        ]\n"
     ]
    }
   ],
   "source": [
    "lin1d = np.linspace(57, 108, 100)\n",
    "print(lin1d)"
   ]
  },
  {
   "cell_type": "markdown",
   "metadata": {},
   "source": [
    "Reshape lin1d to be 10x10 and call it lin2d. Display it."
   ]
  },
  {
   "cell_type": "code",
   "execution_count": 36,
   "metadata": {},
   "outputs": [
    {
     "name": "stdout",
     "output_type": "stream",
     "text": [
      "[[ 57.          57.51515152  58.03030303  58.54545455  59.06060606\n",
      "   59.57575758  60.09090909  60.60606061  61.12121212  61.63636364\n",
      "   62.15151515  62.66666667  63.18181818  63.6969697   64.21212121\n",
      "   64.72727273  65.24242424  65.75757576  66.27272727  66.78787879]\n",
      " [ 67.3030303   67.81818182  68.33333333  68.84848485  69.36363636\n",
      "   69.87878788  70.39393939  70.90909091  71.42424242  71.93939394\n",
      "   72.45454545  72.96969697  73.48484848  74.          74.51515152\n",
      "   75.03030303  75.54545455  76.06060606  76.57575758  77.09090909]\n",
      " [ 77.60606061  78.12121212  78.63636364  79.15151515  79.66666667\n",
      "   80.18181818  80.6969697   81.21212121  81.72727273  82.24242424\n",
      "   82.75757576  83.27272727  83.78787879  84.3030303   84.81818182\n",
      "   85.33333333  85.84848485  86.36363636  86.87878788  87.39393939]\n",
      " [ 87.90909091  88.42424242  88.93939394  89.45454545  89.96969697\n",
      "   90.48484848  91.          91.51515152  92.03030303  92.54545455\n",
      "   93.06060606  93.57575758  94.09090909  94.60606061  95.12121212\n",
      "   95.63636364  96.15151515  96.66666667  97.18181818  97.6969697 ]\n",
      " [ 98.21212121  98.72727273  99.24242424  99.75757576 100.27272727\n",
      "  100.78787879 101.3030303  101.81818182 102.33333333 102.84848485\n",
      "  103.36363636 103.87878788 104.39393939 104.90909091 105.42424242\n",
      "  105.93939394 106.45454545 106.96969697 107.48484848 108.        ]]\n"
     ]
    }
   ],
   "source": [
    "lin2d = lin1d.reshape(5,20)\n",
    "print(lin2d)"
   ]
  },
  {
   "cell_type": "markdown",
   "metadata": {},
   "source": [
    "Print out the shape of lin1d and lin2d."
   ]
  },
  {
   "cell_type": "code",
   "execution_count": 37,
   "metadata": {},
   "outputs": [
    {
     "name": "stdout",
     "output_type": "stream",
     "text": [
      "[ 57.          57.51515152  58.03030303  58.54545455  59.06060606\n",
      "  59.57575758  60.09090909  60.60606061  61.12121212  61.63636364\n",
      "  62.15151515  62.66666667  63.18181818  63.6969697   64.21212121\n",
      "  64.72727273  65.24242424  65.75757576  66.27272727  66.78787879\n",
      "  67.3030303   67.81818182  68.33333333  68.84848485  69.36363636\n",
      "  69.87878788  70.39393939  70.90909091  71.42424242  71.93939394\n",
      "  72.45454545  72.96969697  73.48484848  74.          74.51515152\n",
      "  75.03030303  75.54545455  76.06060606  76.57575758  77.09090909\n",
      "  77.60606061  78.12121212  78.63636364  79.15151515  79.66666667\n",
      "  80.18181818  80.6969697   81.21212121  81.72727273  82.24242424\n",
      "  82.75757576  83.27272727  83.78787879  84.3030303   84.81818182\n",
      "  85.33333333  85.84848485  86.36363636  86.87878788  87.39393939\n",
      "  87.90909091  88.42424242  88.93939394  89.45454545  89.96969697\n",
      "  90.48484848  91.          91.51515152  92.03030303  92.54545455\n",
      "  93.06060606  93.57575758  94.09090909  94.60606061  95.12121212\n",
      "  95.63636364  96.15151515  96.66666667  97.18181818  97.6969697\n",
      "  98.21212121  98.72727273  99.24242424  99.75757576 100.27272727\n",
      " 100.78787879 101.3030303  101.81818182 102.33333333 102.84848485\n",
      " 103.36363636 103.87878788 104.39393939 104.90909091 105.42424242\n",
      " 105.93939394 106.45454545 106.96969697 107.48484848 108.        ]\n",
      "[[ 57.          57.51515152  58.03030303  58.54545455  59.06060606\n",
      "   59.57575758  60.09090909  60.60606061  61.12121212  61.63636364\n",
      "   62.15151515  62.66666667  63.18181818  63.6969697   64.21212121\n",
      "   64.72727273  65.24242424  65.75757576  66.27272727  66.78787879]\n",
      " [ 67.3030303   67.81818182  68.33333333  68.84848485  69.36363636\n",
      "   69.87878788  70.39393939  70.90909091  71.42424242  71.93939394\n",
      "   72.45454545  72.96969697  73.48484848  74.          74.51515152\n",
      "   75.03030303  75.54545455  76.06060606  76.57575758  77.09090909]\n",
      " [ 77.60606061  78.12121212  78.63636364  79.15151515  79.66666667\n",
      "   80.18181818  80.6969697   81.21212121  81.72727273  82.24242424\n",
      "   82.75757576  83.27272727  83.78787879  84.3030303   84.81818182\n",
      "   85.33333333  85.84848485  86.36363636  86.87878788  87.39393939]\n",
      " [ 87.90909091  88.42424242  88.93939394  89.45454545  89.96969697\n",
      "   90.48484848  91.          91.51515152  92.03030303  92.54545455\n",
      "   93.06060606  93.57575758  94.09090909  94.60606061  95.12121212\n",
      "   95.63636364  96.15151515  96.66666667  97.18181818  97.6969697 ]\n",
      " [ 98.21212121  98.72727273  99.24242424  99.75757576 100.27272727\n",
      "  100.78787879 101.3030303  101.81818182 102.33333333 102.84848485\n",
      "  103.36363636 103.87878788 104.39393939 104.90909091 105.42424242\n",
      "  105.93939394 106.45454545 106.96969697 107.48484848 108.        ]]\n"
     ]
    }
   ],
   "source": [
    "print(lin1d)\n",
    "print(lin2d)"
   ]
  },
  {
   "cell_type": "markdown",
   "metadata": {},
   "source": [
    "Generate a 5x5 array of random numbers called nums. Display it."
   ]
  },
  {
   "cell_type": "code",
   "execution_count": 38,
   "metadata": {},
   "outputs": [
    {
     "name": "stdout",
     "output_type": "stream",
     "text": [
      "[[0.84207862 0.05677104 0.37978334 0.3394196  0.73439072]\n",
      " [0.83834337 0.8384157  0.35044704 0.3722731  0.03618776]\n",
      " [0.02758754 0.72017663 0.38211805 0.09109219 0.01717091]\n",
      " [0.47960244 0.01545791 0.04122773 0.90791927 0.99795416]\n",
      " [0.92345614 0.607352   0.09227212 0.20157253 0.55617453]]\n"
     ]
    }
   ],
   "source": [
    "nums = np.random.rand(5,5)\n",
    "print(nums)"
   ]
  },
  {
   "cell_type": "markdown",
   "metadata": {},
   "source": [
    "Print out the min, max and mean of the nums array."
   ]
  },
  {
   "cell_type": "code",
   "execution_count": 39,
   "metadata": {},
   "outputs": [
    {
     "name": "stdout",
     "output_type": "stream",
     "text": [
      "0.015457909160324745\n",
      "0.9979541629776517\n",
      "0.4339697769286146\n"
     ]
    }
   ],
   "source": [
    "print(nums.min())\n",
    "print(nums.max())\n",
    "print(nums.mean())"
   ]
  },
  {
   "cell_type": "markdown",
   "metadata": {},
   "source": [
    "Multiple the entire array nums x2 and store it back in nums. Display the result."
   ]
  },
  {
   "cell_type": "code",
   "execution_count": 40,
   "metadata": {},
   "outputs": [
    {
     "name": "stdout",
     "output_type": "stream",
     "text": [
      "[[1.68415723 0.11354209 0.75956668 0.6788392  1.46878143]\n",
      " [1.67668673 1.67683139 0.70089408 0.74454621 0.07237551]\n",
      " [0.05517507 1.44035326 0.7642361  0.18218437 0.03434183]\n",
      " [0.95920488 0.03091582 0.08245546 1.81583853 1.99590833]\n",
      " [1.84691228 1.21470401 0.18454424 0.40314507 1.11234906]]\n"
     ]
    }
   ],
   "source": [
    "nums = nums*2\n",
    "print(nums)"
   ]
  },
  {
   "cell_type": "markdown",
   "metadata": {},
   "source": [
    "Select rows 1 to 2 and cols 2 to 3 and display the result."
   ]
  },
  {
   "cell_type": "code",
   "execution_count": 41,
   "metadata": {},
   "outputs": [
    {
     "name": "stdout",
     "output_type": "stream",
     "text": [
      "[[0.70089408 0.74454621]\n",
      " [0.7642361  0.18218437]]\n"
     ]
    }
   ],
   "source": [
    "print(nums[1:3,2:4])"
   ]
  },
  {
   "cell_type": "markdown",
   "metadata": {},
   "source": [
    "Modify that same selection by multiplying it x10, then display the new nums array."
   ]
  },
  {
   "cell_type": "code",
   "execution_count": 42,
   "metadata": {},
   "outputs": [
    {
     "name": "stdout",
     "output_type": "stream",
     "text": [
      "[[1.68415723 0.11354209 0.75956668 0.6788392  1.46878143]\n",
      " [1.67668673 1.67683139 7.00894082 7.44546208 0.07237551]\n",
      " [0.05517507 1.44035326 7.64236096 1.82184371 0.03434183]\n",
      " [0.95920488 0.03091582 0.08245546 1.81583853 1.99590833]\n",
      " [1.84691228 1.21470401 0.18454424 0.40314507 1.11234906]]\n"
     ]
    }
   ],
   "source": [
    "nums[1:3,2:4] = nums[1:3,2:4]*10\n",
    "print(nums)"
   ]
  },
  {
   "cell_type": "markdown",
   "metadata": {},
   "source": [
    "Load 'data9.npy' into a numpy array named 'data'. Display the array."
   ]
  },
  {
   "cell_type": "code",
   "execution_count": 43,
   "metadata": {},
   "outputs": [
    {
     "name": "stdout",
     "output_type": "stream",
     "text": [
      "[[0.07301979 0.16473597 0.81951432 0.99818186]\n",
      " [0.62804768 0.34424393 0.58308361 0.09436134]\n",
      " [0.03345196 0.28866977 0.36343501 0.64198102]\n",
      " [0.74852967 0.08606404 0.10232671 0.86568091]\n",
      " [0.42570996 0.55892485 0.7516009  0.3855254 ]\n",
      " [0.06229575 0.95342168 0.89634407 0.43225468]\n",
      " [0.56500264 0.93069069 0.90221041 0.178963  ]\n",
      " [0.84182479 0.36880305 0.26415286 0.04403728]\n",
      " [0.78829453 0.94777048 0.14770364 0.58350887]\n",
      " [0.47231189 0.00532193 0.91274993 0.86889732]]\n"
     ]
    }
   ],
   "source": [
    "data = np.load('data9.npy')\n",
    "print(data)"
   ]
  },
  {
   "cell_type": "markdown",
   "metadata": {},
   "source": [
    "Find and display the *index value* of the largest number in each *row* of data. "
   ]
  },
  {
   "cell_type": "code",
   "execution_count": 44,
   "metadata": {},
   "outputs": [
    {
     "name": "stdout",
     "output_type": "stream",
     "text": [
      "[3 0 3 3 2 1 1 0 1 2]\n"
     ]
    }
   ],
   "source": [
    "index_value = np.argmax(data, axis=1)\n",
    "print(index_value)"
   ]
  },
  {
   "cell_type": "markdown",
   "metadata": {},
   "source": [
    "Create a four-dimensional column vector with random numbers between 0 and 1, sampled from the uniform distribution. Name it $w$."
   ]
  },
  {
   "cell_type": "code",
   "execution_count": 45,
   "metadata": {},
   "outputs": [
    {
     "name": "stdout",
     "output_type": "stream",
     "text": [
      "[[0.96906865]\n",
      " [0.85771582]\n",
      " [0.23769395]\n",
      " [0.43886379]]\n"
     ]
    }
   ],
   "source": [
    "w = np.random.rand(4,1)\n",
    "print(w)"
   ]
  },
  {
   "cell_type": "markdown",
   "metadata": {},
   "source": [
    "Calculate the dot products between $w$ and each row of data."
   ]
  },
  {
   "cell_type": "code",
   "execution_count": 46,
   "metadata": {},
   "outputs": [
    {
     "name": "stdout",
     "output_type": "stream",
     "text": [
      "[[0.8449173 ]\n",
      " [1.083892  ]\n",
      " [0.6481424 ]\n",
      " [1.20343357]\n",
      " [1.23978498]\n",
      " [1.28089019]\n",
      " [1.6387848 ]\n",
      " [1.21422813]\n",
      " [1.86801843]\n",
      " [1.06055006]]\n"
     ]
    }
   ],
   "source": [
    "dot_products = np.dot(data, w)\n",
    "print(dot_products)"
   ]
  },
  {
   "cell_type": "markdown",
   "metadata": {},
   "source": [
    "Create a numpy array $u = (1, -1, 0)$ and a numpy array $v = (1, 0, 1)$. Calculate and display the cosine of the angle between them."
   ]
  },
  {
   "cell_type": "code",
   "execution_count": 51,
   "metadata": {},
   "outputs": [
    {
     "name": "stdout",
     "output_type": "stream",
     "text": [
      "[ 1 -1  0]\n",
      "[1 0 1]\n",
      "0.4999999999999999\n"
     ]
    }
   ],
   "source": [
    "u = np.array([1,-1,0])\n",
    "print(u)\n",
    "v = np.array([1,0,1])\n",
    "print(v)\n",
    "\n",
    "dotv = u.dot(v)\n",
    "tu = (np.linalg.norm(u))\n",
    "tv = (np.linalg.norm(v))\n",
    "print(dotv/(tu*tv))"
   ]
  }
 ],
 "metadata": {
  "kernelspec": {
   "display_name": "Python 3 (ipykernel)",
   "language": "python",
   "name": "python3"
  },
  "language_info": {
   "codemirror_mode": {
    "name": "ipython",
    "version": 3
   },
   "file_extension": ".py",
   "mimetype": "text/x-python",
   "name": "python",
   "nbconvert_exporter": "python",
   "pygments_lexer": "ipython3",
   "version": "3.11.4"
  }
 },
 "nbformat": 4,
 "nbformat_minor": 4
}
