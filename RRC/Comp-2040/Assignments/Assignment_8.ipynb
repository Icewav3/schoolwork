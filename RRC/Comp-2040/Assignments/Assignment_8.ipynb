{
 "cells": [
  {
   "cell_type": "markdown",
   "metadata": {},
   "source": [
    "# Assignment 8\n",
    "**Name: Cole Dorman**\n",
    "\n",
    "**Date: 11/3/2024**\n",
    "\n",
    "*Assignment 8*\n",
    "\n",
    "*Course: Comp-2040*\n",
    "\n",
    "The following code defines a lambda function\n",
    "\n",
    "[Classic Rick roll](https://www.youtube.com/watch?v=dQw4w9WgXcQ)\n",
    "\n",
    "![inspectocat](https://octodex.github.com/images/inspectocat.jpg)\n"
   ]
  },
  {
   "cell_type": "code",
   "execution_count": 1,
   "metadata": {},
   "outputs": [],
   "source": [
    "import math\n",
    "\n",
    "f = lambda x, y, z: math.sqrt(x**2 + y**2 + z**2)"
   ]
  },
  {
   "cell_type": "code",
   "execution_count": 3,
   "metadata": {},
   "outputs": [
    {
     "name": "stdout",
     "output_type": "stream",
     "text": [
      "360.06388322074184\n"
     ]
    }
   ],
   "source": [
    "user_input = []\n",
    "while len(user_input) != 3:\n",
    "    i = input(\"Enter a number: \")\n",
    "    try:\n",
    "        user_input.append(float(i))\n",
    "    except ValueError:\n",
    "        print(\"Not a number\")\n",
    "print(f(*user_input[:3]))\n",
    "#the * unpacks the list into the function arguments [:3] takes the first 3 elements of the list\n"
   ]
  }
 ],
 "metadata": {
  "kernelspec": {
   "display_name": "base",
   "language": "python",
   "name": "python3"
  },
  "language_info": {
   "codemirror_mode": {
    "name": "ipython",
    "version": 3
   },
   "file_extension": ".py",
   "mimetype": "text/x-python",
   "name": "python",
   "nbconvert_exporter": "python",
   "pygments_lexer": "ipython3",
   "version": "3.11.4"
  }
 },
 "nbformat": 4,
 "nbformat_minor": 2
}
