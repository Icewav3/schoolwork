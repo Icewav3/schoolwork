{
 "cells": [
  {
   "cell_type": "code",
   "execution_count": 2,
   "id": "063ed0ac-3212-4963-b85e-6f00f6031733",
   "metadata": {
    "tags": []
   },
   "outputs": [
    {
     "name": "stdout",
     "output_type": "stream",
     "text": [
      "hello world\n"
     ]
    }
   ],
   "source": [
    "print(\"hello world\")"
   ]
  },
  {
   "cell_type": "code",
   "execution_count": 1,
   "id": "473541b9-2dbc-4877-9f87-9415778f700b",
   "metadata": {
    "tags": []
   },
   "outputs": [],
   "source": [
    "import seaborn as sns"
   ]
  },
  {
   "cell_type": "code",
   "execution_count": 2,
   "id": "b184d65a-d3a0-46c3-8b69-ed3a2210fd47",
   "metadata": {},
   "outputs": [
    {
     "data": {
      "text/plain": [
       "['anagrams',\n",
       " 'anscombe',\n",
       " 'attention',\n",
       " 'brain_networks',\n",
       " 'car_crashes',\n",
       " 'diamonds',\n",
       " 'dots',\n",
       " 'dowjones',\n",
       " 'exercise',\n",
       " 'flights',\n",
       " 'fmri',\n",
       " 'geyser',\n",
       " 'glue',\n",
       " 'healthexp',\n",
       " 'iris',\n",
       " 'mpg',\n",
       " 'penguins',\n",
       " 'planets',\n",
       " 'seaice',\n",
       " 'taxis',\n",
       " 'tips',\n",
       " 'titanic']"
      ]
     },
     "execution_count": 2,
     "metadata": {},
     "output_type": "execute_result"
    }
   ],
   "source": [
    "sns.get_dataset_names()"
   ]
  },
  {
   "cell_type": "code",
   "execution_count": 3,
   "id": "eb7da8ac-cd91-40cd-a861-9c3d9a31cde9",
   "metadata": {
    "tags": []
   },
   "outputs": [],
   "source": [
    "geyser = sns.load_dataset(\"geyser\")"
   ]
  },
  {
   "cell_type": "code",
   "execution_count": 5,
   "id": "8da1f599-c976-49f0-9b29-7cc218102b78",
   "metadata": {
    "tags": []
   },
   "outputs": [
    {
     "name": "stdout",
     "output_type": "stream",
     "text": [
      "     duration  waiting   kind\n",
      "0       3.600       79   long\n",
      "1       1.800       54  short\n",
      "2       3.333       74   long\n",
      "3       2.283       62  short\n",
      "4       4.533       85   long\n",
      "..        ...      ...    ...\n",
      "267     4.117       81   long\n",
      "268     2.150       46  short\n",
      "269     4.417       90   long\n",
      "270     1.817       46  short\n",
      "271     4.467       74   long\n",
      "\n",
      "[272 rows x 3 columns]\n"
     ]
    }
   ],
   "source": [
    "print(geyser)"
   ]
  },
  {
   "cell_type": "code",
   "execution_count": 6,
   "id": "16865ae5-5b6a-43eb-a408-4ff6060af73f",
   "metadata": {
    "tags": []
   },
   "outputs": [
    {
     "data": {
      "text/plain": [
       "<Axes: xlabel='kind', ylabel='duration'>"
      ]
     },
     "execution_count": 6,
     "metadata": {},
     "output_type": "execute_result"
    },
    {
     "data": {
      "image/png": "[encoded data removed]",
      "text/plain": [
       "<Figure size 640x480 with 1 Axes>"
      ]
     },
     "metadata": {},
     "output_type": "display_data"
    }
   ],
   "source": [
    "sns.boxplot(x=\"kind\", y=\"duration\", data=geyser)"
   ]
  },
  {
   "cell_type": "code",
   "execution_count": null,
   "id": "26bb850a-774c-4937-aeb1-8a7e8f00cce6",
   "metadata": {},
   "outputs": [],
   "source": []
  }
 ],
 "metadata": {
  "kernelspec": {
   "display_name": "Python 3 (ipykernel)",
   "language": "python",
   "name": "python3"
  },
  "language_info": {
   "codemirror_mode": {
    "name": "ipython",
    "version": 3
   },
   "file_extension": ".py",
   "mimetype": "text/x-python",
   "name": "python",
   "nbconvert_exporter": "python",
   "pygments_lexer": "ipython3",
   "version": "3.11.4"
  }
 },
 "nbformat": 4,
 "nbformat_minor": 5
}
